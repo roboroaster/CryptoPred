{
 "cells": [
  {
   "cell_type": "markdown",
   "metadata": {},
   "source": [
    "### Importing important Libraries"
   ]
  },
  {
   "cell_type": "code",
   "execution_count": null,
   "metadata": {},
   "outputs": [],
   "source": [
    "%pip install numpy \n",
    "%pip install pandas \n",
    "%pip install matplotlib\n",
    "%pip install pandas-datareader\n",
    "%pip install torch\n",
    "%pip install tensorflow"
   ]
  },
  {
   "cell_type": "code",
   "execution_count": 33,
   "metadata": {},
   "outputs": [],
   "source": [
    "import numpy as np \n",
    "import matplotlib.pyplot as plt \n",
    "import pandas as pd \n",
    "import pandas_datareader as web \n",
    "import datetime as dt\n",
    "\n",
    "\n",
    "from sklearn.preprocessing import MinMaxScaler\n",
    "from tensorflow.keras.layers import Dense, Dropout, LSTM\n",
    "from tensorflow.keras.models import Sequential\n",
    "from torch import inverse\n",
    "from torch_optimizer import Optimizer"
   ]
  },
  {
   "cell_type": "code",
   "execution_count": 34,
   "metadata": {},
   "outputs": [],
   "source": [
    "#  Selecting Cryptocurrency and currency comparater\n",
    "crypto_currency = 'ADA'\n",
    "against_currency = 'INR'"
   ]
  },
  {
   "cell_type": "code",
   "execution_count": 35,
   "metadata": {},
   "outputs": [],
   "source": [
    "#  Setting time frame for the training data \n",
    "\n",
    "start = dt.datetime(2016,1,1)\n",
    "end = dt.datetime.now()"
   ]
  },
  {
   "cell_type": "code",
   "execution_count": 36,
   "metadata": {},
   "outputs": [],
   "source": [
    "#  Loading Financial Data\n",
    "data = web.DataReader(f'{crypto_currency}-{against_currency}','yahoo',start,end)"
   ]
  },
  {
   "cell_type": "code",
   "execution_count": 37,
   "metadata": {},
   "outputs": [],
   "source": [
    "#  Preparing Data\n",
    "scaler = MinMaxScaler(feature_range=(0,1)) # Scaling data between 0 and 1 to make it easy for nn to work\n",
    "scaled_data = scaler.fit_transform(data['Close'].values.reshape(-1,1))"
   ]
  },
  {
   "cell_type": "code",
   "execution_count": 38,
   "metadata": {},
   "outputs": [],
   "source": [
    "#  Preparing training Data\n",
    "prediction_days = 60 # the number of days to predict the crypto on \n",
    "future_day = 30\n",
    "\n",
    "x_train,y_train = [],[]\n",
    "\n",
    "for x in range(prediction_days,len(scaled_data)):\n",
    "# for x in range(prediction_days,len(scaled_data)-future_day):  # unlock for a specific day after\n",
    "    x_train.append(scaled_data[x-prediction_days:x,0])\n",
    "    y_train.append(scaled_data[x,0])\n",
    "    # y_train.append(scaled_data[x+future_day,0]) # unlock this too\n",
    "\n",
    "x_train,y_train = np.array(x_train),np.array(y_train)\n",
    "x_train = np.reshape(x_train,(x_train.shape[0],x_train.shape[1],1))"
   ]
  },
  {
   "cell_type": "code",
   "execution_count": 39,
   "metadata": {},
   "outputs": [
    {
     "name": "stdout",
     "output_type": "stream",
     "text": [
      "Epoch 1/25\n",
      "47/47 [==============================] - 10s 68ms/step - loss: 0.0086 1\n",
      "Epoch 2/25\n",
      "47/47 [==============================] - 3s 71ms/step - loss: 0.0031\n",
      "Epoch 3/25\n",
      "47/47 [==============================] - 3s 72ms/step - loss: 0.0027\n",
      "Epoch 4/25\n",
      "47/47 [==============================] - 4s 80ms/step - loss: 0.0024\n",
      "Epoch 5/25\n",
      "47/47 [==============================] - 4s 79ms/step - loss: 0.0027\n",
      "Epoch 6/25\n",
      "47/47 [==============================] - 4s 74ms/step - loss: 0.0020\n",
      "Epoch 7/25\n",
      "47/47 [==============================] - 3s 72ms/step - loss: 0.0026\n",
      "Epoch 8/25\n",
      "47/47 [==============================] - 4s 80ms/step - loss: 0.0022\n",
      "Epoch 9/25\n",
      "47/47 [==============================] - 4s 76ms/step - loss: 0.0019\n",
      "Epoch 10/25\n",
      "47/47 [==============================] - 4s 76ms/step - loss: 0.0018: 0s - loss: 0\n",
      "Epoch 11/25\n",
      "47/47 [==============================] - 3s 71ms/step - loss: 0.0018\n",
      "Epoch 12/25\n",
      "47/47 [==============================] - 3s 73ms/step - loss: 0.0021: 1\n",
      "Epoch 13/25\n",
      "47/47 [==============================] - 3s 69ms/step - loss: 0.0015\n",
      "Epoch 14/25\n",
      "47/47 [==============================] - 3s 69ms/step - loss: 0.0017\n",
      "Epoch 15/25\n",
      "47/47 [==============================] - 3s 71ms/step - loss: 0.0015\n",
      "Epoch 16/25\n",
      "47/47 [==============================] - 3s 71ms/step - loss: 0.0015\n",
      "Epoch 17/25\n",
      "47/47 [==============================] - 4s 76ms/step - loss: 0.0015\n",
      "Epoch 18/25\n",
      "47/47 [==============================] - 4s 77ms/step - loss: 0.0014\n",
      "Epoch 19/25\n",
      "47/47 [==============================] - 3s 66ms/step - loss: 0.0016\n",
      "Epoch 20/25\n",
      "47/47 [==============================] - 3s 74ms/step - loss: 0.0015\n",
      "Epoch 21/25\n",
      "47/47 [==============================] - 3s 65ms/step - loss: 0.0017\n",
      "Epoch 22/25\n",
      "47/47 [==============================] - 3s 66ms/step - loss: 0.0014\n",
      "Epoch 23/25\n",
      "47/47 [==============================] - 3s 72ms/step - loss: 0.0013\n",
      "Epoch 24/25\n",
      "47/47 [==============================] - 3s 66ms/step - loss: 0.0013: 0\n",
      "Epoch 25/25\n",
      "47/47 [==============================] - 3s 70ms/step - loss: 0.0016\n"
     ]
    },
    {
     "data": {
      "text/plain": [
       "<keras.callbacks.History at 0x1f61a77b340>"
      ]
     },
     "execution_count": 39,
     "metadata": {},
     "output_type": "execute_result"
    }
   ],
   "source": [
    "# Create the neural network \n",
    "# pip install numpy == 1.19.5 \n",
    "# use this command if there is a problem with numpy \n",
    "\n",
    "model = Sequential()\n",
    "\n",
    "model.add(LSTM(units=50,return_sequences=True,input_shape =(x_train.shape[1],1)))\n",
    "model.add(Dropout(0.2))\n",
    "model.add(LSTM(units=50,return_sequences=True))\n",
    "model.add(Dropout(0.20))\n",
    "model.add(LSTM(units=50))\n",
    "model.add(Dropout(0.20))\n",
    "model.add(Dense(units=1))\n",
    "\n",
    "model.compile(optimizer='adam',loss='mean_squared_error')\n",
    "\n",
    "\n",
    "model.fit(x_train,y_train,epochs=25,batch_size=32)"
   ]
  },
  {
   "cell_type": "code",
   "execution_count": 40,
   "metadata": {},
   "outputs": [],
   "source": [
    "# Testing the model \n",
    "\n",
    "test_start = dt.datetime(2020,1,1) # (year.month,day)\n",
    "# test_end = dt.datetime(2021,4,7) # this is for older testing \n",
    "\n",
    "test_end = dt.datetime.now()  # this should be used to do it for current trend\n",
    "\n",
    "\n",
    "test_data = web.DataReader(f'{crypto_currency}-{against_currency}','yahoo', test_start, test_end)\n",
    "\n",
    "\n",
    "actual_prices = test_data['Close'].values\n",
    "total_dataset = pd.concat((data['Close'],test_data['Close']),axis=0)\n",
    "\n",
    "\n",
    "\n",
    "model_inputs = total_dataset[len(total_dataset)-len(test_data) - prediction_days:].values\n",
    "\n",
    "model_inputs = model_inputs.reshape(-1,1)\n",
    "model_inputs = scaler.fit_transform(model_inputs)\n",
    "\n",
    "x_test = []\n",
    "\n",
    "for x in range(prediction_days,len(model_inputs)):\n",
    "    x_test.append(model_inputs[x-prediction_days:x,0])\n",
    "\n",
    "x_test = np.array(x_test)\n",
    "x_test = np.reshape(x_test,(x_test.shape[0],x_test.shape[1],1))"
   ]
  },
  {
   "cell_type": "code",
   "execution_count": 41,
   "metadata": {},
   "outputs": [],
   "source": [
    "#  Prediction \n",
    "\n",
    "prediction_prices = model.predict(x_test)\n",
    "prediction_prices = scaler.inverse_transform(prediction_prices)"
   ]
  },
  {
   "cell_type": "code",
   "execution_count": 42,
   "metadata": {},
   "outputs": [
    {
     "data": {
      "image/png": "[encoded data removed]",
      "text/plain": [
       "<Figure size 432x288 with 1 Axes>"
      ]
     },
     "metadata": {
      "needs_background": "light"
     },
     "output_type": "display_data"
    }
   ],
   "source": [
    "# plotting prediction v/s actual\n",
    "\n",
    "plt.plot(actual_prices,color='black',label='Actual Prices')\n",
    "plt.plot(prediction_prices,color='green',label='Predicted Prices')\n",
    "plt.title(f'{crypto_currency} price prediction ')\n",
    "plt.xlabel('Time')\n",
    "plt.ylabel('Price')\n",
    "plt.legend(loc='upper left')\n",
    "plt.show()"
   ]
  },
  {
   "cell_type": "code",
   "execution_count": 43,
   "metadata": {},
   "outputs": [
    {
     "name": "stdout",
     "output_type": "stream",
     "text": [
      "ADA Price Tomorrow = 79.20083618164062 INR\n"
     ]
    }
   ],
   "source": [
    "# Predict next day \n",
    "\n",
    "# real_data = [model_inputs[len(model_inputs) + 1 - prediction_days:len(model_inputs)+1,0]]\n",
    "real_data = [model_inputs[len(model_inputs) - prediction_days : len(model_inputs)+1, 0]]\n",
    "real_data = np.array(real_data)\n",
    "real_data = np.reshape(real_data,(real_data.shape[0],real_data.shape[1],1))\n",
    "\n",
    "prediction = model.predict(real_data)\n",
    "prediction = scaler.inverse_transform(prediction)\n",
    "\n",
    "print('{} Price Tomorrow = {} {}'.format(crypto_currency,prediction[0,0],against_currency))"
   ]
  }
 ],
 "metadata": {
  "interpreter": {
   "hash": "621c4fedd42a37be7b52469565837eb77502506d7ef1f3099a1fe06879314a68"
  },
  "kernelspec": {
   "display_name": "Python 3.9.7 64-bit ('base': conda)",
   "language": "python",
   "name": "python3"
  },
  "language_info": {
   "codemirror_mode": {
    "name": "ipython",
    "version": 3
   },
   "file_extension": ".py",
   "mimetype": "text/x-python",
   "name": "python",
   "nbconvert_exporter": "python",
   "pygments_lexer": "ipython3",
   "version": "3.9.2"
  },
  "orig_nbformat": 4
 },
 "nbformat": 4,
 "nbformat_minor": 2
}
